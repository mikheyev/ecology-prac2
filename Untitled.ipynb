{
 "cells": [
  {
   "attachments": {},
   "cell_type": "markdown",
   "metadata": {},
   "source": [
    "# BIOL2131/6004 Ecology\n",
    "## Community Ecology Tutorial\n",
    "9am-1pm 20 April 2019\n",
    "\n",
    "Guld (Mac Lab) 113\n",
    "### Goals\n",
    "- Calculate and explore emergent properties (abundance, richness, diversity, evenness) of the Kioloa invertebrate community structure;\n",
    "- Use ordination to explore the invertebrate community structure of kioloa; and\n",
    "- Discuss the advantages and limitations of our data and analysis for understanding the\n",
    "the structure of the Kioloa invertebrate communities.\n",
    "\n",
    "### Background\n",
    "Community ecology requires an understanding of both the composition and function of species living in sympatry. Some traditional metrics, such as taxonomic richness, diversity and evenness, can help explore broad patterns in community structure across space and/or time. However, communities often consist of a large number of species that can vary in occurrence and abundance across areas or gradients of interest. While it is possible to plot and explore every single one of these species in turn, this would be extremely time-consuming, and has the added problem of not considering the communities holistically.\n",
    "\n",
    "Multivariate ordination provides a way to explore patterns in both community composition and relative abundance in a diverse dataset (i.e., with 3 or more species). Such ordinations are not a statistical test, but a way of simplifying a multivariate dataset to visually explore community structure, and generate hypotheses for why such structure exists. We will use one type of ordination – Principal Components Analysis (PCA) – to examine similarities and\n",
    "differences in the structure of the Kioloa biological communities.\n",
    "\n",
    "### Procedure\n",
    "Find the class dataset of the flora and invertebrate communities we surveyed at Kioloa Coastal Campus (Excel spreadsheet `ECOLOGY_FIELD_COURSE 2018_COMMUNITY STRUCTURE`) in the `data` subfolder of this document. on Wattle `Practical 3 Kioloa Invert_community_Assignment`, and save this to your desktop. Using this dataset in Excel and SPSS, please familiarise yourself with the datasheets and work through the steps below so that you can answer the questions to the tutorial report:"
   ]
  },
  {
   "cell_type": "markdown",
   "metadata": {},
   "source": []
  }
 ],
 "metadata": {
  "kernelspec": {
   "display_name": "R",
   "language": "R",
   "name": "ir"
  }
 },
 "nbformat": 4,
 "nbformat_minor": 2
}
