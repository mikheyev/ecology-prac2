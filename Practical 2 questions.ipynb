{
 "cells": [
  {
   "cell_type": "markdown",
   "metadata": {},
   "source": [
    "## Practical 2 exercises\n",
    "Please submit this report electronically the Turnitin link on the BIOL2131/6004 Ecology Wattle page by noon, May 6, 2019. You can answer the questions below, then use the `File:Download as:HTML` function in the menu to generate the report (it's the third option from the top of the sub-menu). Before you do so, make sure you use the `Kenel:Restart & Run all` option to re-run everything from scratch. \n",
    "\n",
    "**Important: Double-check your output after running Restart & Run all!!!** If you changed any of the intermediate variables when playing around with the notebook they will be re-set and everything will run from scratch.\n",
    "\n",
    "For each question run a code cell where appropriate, or write it into the text cell below. Feel free to use the Internet to track down the answer or to ask other students for advice."
   ]
  },
  {
   "cell_type": "markdown",
   "metadata": {},
   "source": [
    ") How many row and columns are there in the iris data set? How did you find this out (_don't_ count them by hand)?"
   ]
  },
  {
   "cell_type": "markdown",
   "metadata": {},
   "source": [
    "Answer: "
   ]
  },
  {
   "cell_type": "markdown",
   "metadata": {},
   "source": [
    "1) What happens when you run the `ggplot` function by itself, without any other functions appended using `+`? Why do you get the output that you do?"
   ]
  },
  {
   "cell_type": "code",
   "execution_count": null,
   "metadata": {},
   "outputs": [],
   "source": []
  },
  {
   "cell_type": "markdown",
   "metadata": {},
   "source": [
    "2) Plot the standard error for the iris data set"
   ]
  },
  {
   "cell_type": "code",
   "execution_count": null,
   "metadata": {},
   "outputs": [],
   "source": []
  },
  {
   "cell_type": "markdown",
   "metadata": {},
   "source": [
    "3) Using the [formula for sample standard deviation](https://en.wikipedia.org/wiki/Standard_deviation) $(s = \\sqrt{\\frac{\\sum^N_{i=i} (x_i - \\bar x)^2}{N-1}})$ to create a custom function called `sd2`. Prove that it gives the same result as the built-in `sd` function."
   ]
  },
  {
   "cell_type": "code",
   "execution_count": null,
   "metadata": {},
   "outputs": [],
   "source": []
  },
  {
   "cell_type": "markdown",
   "metadata": {},
   "source": [
    "4) Make a scatterplot of Petal.Width _vs._ Sepal.Width, and color-code the points by species. Hint: we've already used the `ggplot2` function necessary to accomplish this."
   ]
  },
  {
   "cell_type": "code",
   "execution_count": null,
   "metadata": {},
   "outputs": [],
   "source": []
  },
  {
   "cell_type": "markdown",
   "metadata": {},
   "source": [
    "5) Create a table with the number of flowers that have `Sepal.Width` greater than 3 in each species."
   ]
  },
  {
   "cell_type": "code",
   "execution_count": null,
   "metadata": {},
   "outputs": [],
   "source": []
  }
 ],
 "metadata": {
  "hide_input": false,
  "kernelspec": {
   "display_name": "R",
   "language": "R",
   "name": "ir"
  },
  "language_info": {
   "codemirror_mode": "r",
   "file_extension": ".r",
   "mimetype": "text/x-r-source",
   "name": "R",
   "pygments_lexer": "r",
   "version": "3.5.3"
  },
  "varInspector": {
   "cols": {
    "lenName": 16,
    "lenType": 16,
    "lenVar": 40
   },
   "kernels_config": {
    "python": {
     "delete_cmd_postfix": "",
     "delete_cmd_prefix": "del ",
     "library": "var_list.py",
     "varRefreshCmd": "print(var_dic_list())"
    },
    "r": {
     "delete_cmd_postfix": ") ",
     "delete_cmd_prefix": "rm(",
     "library": "var_list.r",
     "varRefreshCmd": "cat(var_dic_list()) "
    }
   },
   "types_to_exclude": [
    "module",
    "function",
    "builtin_function_or_method",
    "instance",
    "_Feature"
   ],
   "window_display": false
  }
 },
 "nbformat": 4,
 "nbformat_minor": 2
}
