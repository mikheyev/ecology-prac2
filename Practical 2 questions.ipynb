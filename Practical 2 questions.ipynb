{
 "cells": [
  {
   "cell_type": "markdown",
   "metadata": {},
   "source": [
    "## Practical 2 exercises\n",
    "\n",
    "**REMEMBER:** The notebook may disconnect after a period of inactivity or if you lose network content. Make sure you save it by downloading or by copying your text onto your computer.\n",
    "\n",
    "Please submit this report electronically the Turnitin link on the BIOL2131/6004 Ecology Wattle page by noon, May 6, 2019. Answer the questions below, use the print preview option and save the output as PDF, but make sure that you execute `Kenel:Restart & Run all` option to re-run everything from scratch beforehand.\n",
    "\n",
    "![](img/question-download.png)\n",
    "\n",
    "**Important: Double-check your output after running Restart & Run all!!!** If you changed any of the intermediate variables when playing around with the notebook they will be re-set and everything will run from scratch.\n",
    "\n",
    "For each question run a code cell where appropriate, or write it into the text cell below. Feel free to use the Internet to track down the answer or to ask other students for advice."
   ]
  },
  {
   "cell_type": "markdown",
   "metadata": {},
   "source": [
    "1. How many row and columns are there in the iris data set? How did you find this out (_don't_ count them by hand)? **[1 point]**\n",
    "\n",
    "- Plot the standard error for each species in  iris data set **[2 points]**\n",
    "\n",
    "- Why is the standard error smaller than the standard deviation? **[2 points]**\n",
    "\n",
    "- Lookig at distributions by species. We already used a histogram to see the distibution of points within all the species. This can be a bit tricky to visualize if the points overlap. For example, the sepal width measurements are not as differnt between species. \n",
    "   - First plot the color-coded histogram of the `Sepal.Width` column as in the Prac example. **[1 point]**\n",
    "   - We'll use another data visualization technique called a box plot. Using the _ggplot_ function <i>geom_boxplot</i> make a boxplot of the `Sepal.With` column with species on the x-axis. **[2 points]**\n",
    "   - What does the box, the whiskers and the points represent? Feel free to use the built-in help `?geom_boxplot()` function, and a search engine. **[4 points]**\n",
    "\n",
    "- Using the [formula for sample standard deviation](https://en.wikipedia.org/wiki/Standard_deviation) $(s = \\sqrt{\\frac{\\sum^N_{i=i} (x_i - \\bar x)^2}{N-1}})$ to create a custom function called `sd2`. Prove that it gives the same result as the built-in `sd` function. **[4 points]**\n",
    "\n",
    "- Use a linear regression to test whether `Sepal.Width` is the same in _setosa_ and _virginica_. **[1 point]**\n",
    "\n",
    "- Load a sheet with the wind data from Kioloa using `read_excel(\"data/wind.xlsx\")`. Plot the wind speed vs. height color-coding by site **[2 points]** *Hint:* for scatter plots, ggplot uses the `color` aesthetic to color points\n",
    "  * Once you plotted the points, you can actually fit a linear model for each of the sites using `+ geom_smooth(method = \"lm\", se = F)`. **[1 point]**\n",
    "\n",
    "### Navigation\n",
    "\n",
    "You can add additional cells below using either the menu or the shorcut key _Escape-b_, optionally changing them to text using _Escape-m_.\n",
    "\n",
    "Keep in mind that you'll have to re-load any functions and libraries that you created in the previous workbook -- each workbook is a separate compute environment and doesn't know about the existene of others."
   ]
  },
  {
   "cell_type": "code",
   "execution_count": null,
   "metadata": {},
   "outputs": [],
   "source": [
    "# make sure you run this cell to get the plotting library and the data set loaded into the workspace\n",
    "library(tidyverse) \n",
    "data(iris)\n",
    "options(repr.plot.width=5, repr.plot.height=4) # reduce the size of plots to make them look nicer"
   ]
  }
 ],
 "metadata": {
  "hide_input": false,
  "kernelspec": {
   "display_name": "R",
   "language": "R",
   "name": "ir"
  },
  "language_info": {
   "codemirror_mode": "r",
   "file_extension": ".r",
   "mimetype": "text/x-r-source",
   "name": "R",
   "pygments_lexer": "r",
   "version": "3.5.3"
  },
  "varInspector": {
   "cols": {
    "lenName": 16,
    "lenType": 16,
    "lenVar": 40
   },
   "kernels_config": {
    "python": {
     "delete_cmd_postfix": "",
     "delete_cmd_prefix": "del ",
     "library": "var_list.py",
     "varRefreshCmd": "print(var_dic_list())"
    },
    "r": {
     "delete_cmd_postfix": ") ",
     "delete_cmd_prefix": "rm(",
     "library": "var_list.r",
     "varRefreshCmd": "cat(var_dic_list()) "
    }
   },
   "types_to_exclude": [
    "module",
    "function",
    "builtin_function_or_method",
    "instance",
    "_Feature"
   ],
   "window_display": false
  }
 },
 "nbformat": 4,
 "nbformat_minor": 2
}
